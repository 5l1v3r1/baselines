{
 "cells": [
  {
   "cell_type": "markdown",
   "metadata": {},
   "source": [
    "# A fully-connected MNIST classifier in PyTorch\n",
    "Sam Greydanus | 2018 | MIT License"
   ]
  },
  {
   "cell_type": "code",
   "execution_count": 1,
   "metadata": {
    "collapsed": true
   },
   "outputs": [],
   "source": [
    "# imports\n",
    "import numpy as np\n",
    "import matplotlib.pyplot as plt\n",
    "import os, copy, time, pickle\n",
    "\n",
    "import torch\n",
    "import torch.nn as nn\n",
    "import torch.nn.functional as F\n",
    "from torch.autograd import Variable\n",
    "from torchvision import datasets, models, transforms, utils\n",
    "\n",
    "# set up the workspace\n",
    "reseed = lambda: np.random.seed(seed=0) ; ms = torch.manual_seed(0) # for reproducibility\n",
    "reseed()\n",
    "\n",
    "os.mkdir('figures') if not os.path.exists('figures') else None\n",
    "os.mkdir('saved') if not os.path.exists('saved') else None"
   ]
  },
  {
   "cell_type": "markdown",
   "metadata": {},
   "source": [
    "## Data loader\n",
    "<img src=\"static/mnist.png\" alt=\"MNIST training samples\" style=\"width: 200px;\"/>\n",
    "\n",
    "In the code below, I essentially wrap the PyTorch MNIST utility. A few examples from the MNIST dataset are shown above.\n",
    "\n",
    "Now we can access either the train or test sets, depending on the mode we request. I also include a utility for converting labels to one-hot labels and a utility for measuring the accuracy of a classifier."
   ]
  },
  {
   "cell_type": "code",
   "execution_count": 2,
   "metadata": {
    "collapsed": true
   },
   "outputs": [],
   "source": [
    "class MnistLoader():\n",
    "    def __init__(self):\n",
    "        self.modes = modes = ['train', 'test']\n",
    "        trans = transforms.Compose([transforms.ToTensor(),]) # transforms.Normalize((0.1307,), (0.3081,))\n",
    "        self.dsets = {k: datasets.MNIST('./data', train=k=='train', download=True, transform=trans) for k in modes}\n",
    "        self.loaders = {m: iter([]) for m in modes}\n",
    "        self.batch_size = None\n",
    "\n",
    "    def next(self, batch_size, mode='train', sigma=0):\n",
    "        if batch_size is not None and batch_size != self.batch_size:\n",
    "            self.loaders[mode] = iter(torch.utils.data.DataLoader(self.dsets[mode], batch_size, shuffle=True))\n",
    "            self.batch_size = batch_size\n",
    "        data = next(self.loaders[mode], None)\n",
    "        if data is None or batch_size != data[0].shape[0]:\n",
    "            self.loaders[mode] = iter(torch.utils.data.DataLoader(self.dsets[mode], batch_size, shuffle=True))\n",
    "            data = next(self.loaders[mode], None)\n",
    "        return data[0].view(self.batch_size, 28**2).numpy(), data[1].numpy()\n",
    "    \n",
    "def onehot(values, n_values): # converts to one-hot (use np.argmax to convert back)\n",
    "    oh = np.zeros((values.size, n_values))\n",
    "    oh[range(values.size), values.ravel()] = 1\n",
    "    return oh.reshape(list(values.shape) + [10])\n",
    "\n",
    "def accuracy(model, dataloader, samples=10000, mode='test'):\n",
    "    X, y = dataloader.next(samples, mode=mode)\n",
    "    model.eval()      # put model in evaluation mode\n",
    "    logits = model.forward(X) # logits should be a numpy array\n",
    "    model.train()     # put model in train mode\n",
    "    y = onehot(y, logits.shape[-1])\n",
    "    return 100*sum(y.argmax(1) == logits.argmax(1))/samples # assumes y and y_hat are numpy arrays"
   ]
  },
  {
   "cell_type": "markdown",
   "metadata": {},
   "source": [
    "## Model\n",
    "\n",
    "This is a three-layer, fully-connected classifier with ReLU activations. It's pretty easy in PyTorch."
   ]
  },
  {
   "cell_type": "code",
   "execution_count": 3,
   "metadata": {
    "collapsed": true
   },
   "outputs": [],
   "source": [
    "class DenseMnistClassifier(nn.Module):\n",
    "    def __init__(self, hdim=200):\n",
    "        super(DenseMnistClassifier, self).__init__()\n",
    "        self.linear1 = nn.Linear(28**2, hdim)\n",
    "        self.linear2 = nn.Linear(hdim, hdim)\n",
    "        self.linear3 = nn.Linear(hdim, 10)\n",
    "\n",
    "    def forward(self, x):\n",
    "        x = Variable(torch.Tensor(x)) if type(x) == np.ndarray else x # maybe convert to an autograd variable\n",
    "        h1 = F.sigmoid(self.linear1(x))  # shape [batch x 28^2] -> [batch x hdim]\n",
    "        h2 = F.sigmoid(self.linear2(h1)) # shape [batch x hdim] -> [batch x hdim]\n",
    "        h3 = self.linear3(h2) # shape [batch x hdim] -> [batch x 10  ]\n",
    "        return h3 if self.training else h3.data.numpy() # maybe return as a numpy array, else as a Variable"
   ]
  },
  {
   "cell_type": "markdown",
   "metadata": {},
   "source": [
    "## Utility functions\n",
    "For loading, saving, keeping a running mean of the loss"
   ]
  },
  {
   "cell_type": "code",
   "execution_count": 4,
   "metadata": {
    "collapsed": true
   },
   "outputs": [],
   "source": [
    "def to_pickle(thing, name): # save something\n",
    "    with open('saved/{}.pkl'.format(name), 'wb') as handle:\n",
    "        pickle.dump(thing, handle, protocol=pickle.HIGHEST_PROTOCOL)\n",
    "\n",
    "def from_pickle(name): # load something\n",
    "    thing = None\n",
    "    with open('saved/{}.pkl'.format(name), 'rb') as handle:\n",
    "        thing = pickle.load(handle)\n",
    "    return thing\n",
    "\n",
    "running_mean = lambda mean, update: update if mean is None else .99*mean + (1-.99)*update"
   ]
  },
  {
   "cell_type": "markdown",
   "metadata": {},
   "source": [
    "## Hyperparameters\n",
    "We'll use a trick to make our dictionary of hyperparameters and other training info look like an object. I'm doing this out of personal taste. Reasons to do it this way:\n",
    "\n",
    "* Dictionaries are a fundamental Python data structure\n",
    " * everyone knows how to interact with dictionaries\n",
    " * this makes my work (maybe) easier to follow?\n",
    "* Dictionaries are easy to save/load compared to objects\n",
    " * so loading a saved model plus its training metadata is easy\n",
    "* Objects are easier to interact with\n",
    " * `info.global_step` is cleaner than `info['global_step']`\n",
    " * yes, I'm a bit of a perfectionist\n",
    "    \n",
    "By making a dictionary that looks like an object, we get the best of both worlds :)"
   ]
  },
  {
   "cell_type": "code",
   "execution_count": 5,
   "metadata": {
    "collapsed": true
   },
   "outputs": [],
   "source": [
    "info_dict = {'hidden_dim': 200,\n",
    "        'lr': 1e-2,\n",
    "        'batch_size': 128,\n",
    "        'test_every': 100,\n",
    "        'global_step': 0,\n",
    "        'epochs': 3,\n",
    "        'loss': [],\n",
    "        'accuracy': [],\n",
    "        'name': 'mnist-fc'}\n",
    "info_dict['total_steps'] = int(info_dict['epochs']*60000/info_dict['batch_size'])\n",
    "\n",
    "class ObjectView(object):\n",
    "    def __init__(self, d): self.__dict__ = d\n",
    "info = ObjectView(info_dict)"
   ]
  },
  {
   "cell_type": "markdown",
   "metadata": {},
   "source": [
    "## Initialize everything\n",
    "\n",
    "In this case, we just make a dataloader and a model. The optimizer is just SGD."
   ]
  },
  {
   "cell_type": "code",
   "execution_count": 6,
   "metadata": {},
   "outputs": [
    {
     "name": "stdout",
     "output_type": "stream",
     "text": [
      "\t* loaded a model\n",
      "test accuracy: 96.81%\n"
     ]
    }
   ],
   "source": [
    "dataloader = MnistLoader()\n",
    "model = DenseMnistClassifier(info.hidden_dim)\n",
    "optimizer = torch.optim.Adam(model.parameters(), lr=info.lr)\n",
    "model.train() # put model in train mode\n",
    "\n",
    "try:\n",
    "    [model, info_dict] = from_pickle(info.name)\n",
    "    info = ObjectView(info_dict)\n",
    "    print('\\t* loaded a model')\n",
    "except:\n",
    "    print('\\t* no model to load')\n",
    "    \n",
    "acc = accuracy(model, dataloader, mode='test')\n",
    "print('test accuracy: {:.2f}%'.format(acc))"
   ]
  },
  {
   "cell_type": "markdown",
   "metadata": {},
   "source": [
    "## Train\n",
    "\n",
    "We define $\\mathcal{L}$ to be the negative log likelihood objective and solve:\n",
    "$$ \\operatorname*{arg\\,min}_\\theta \\mathcal{L} \\quad \\textrm{where} \\quad \\mathcal{L} = \\frac{1}{N}\\sum^N -y_k \\log(\\hat y_k) $$\n",
    "In the equation above, $N$ is the minibatch size, $y$ is the supervised training label and $\\hat y$ is the softmax distribution of the classifier. Also, $k$ is the index where the one-hot vector $y_k$ is equal to 1 (it is class label)."
   ]
  },
  {
   "cell_type": "code",
   "execution_count": 7,
   "metadata": {},
   "outputs": [],
   "source": [
    "start_t = print_t = time.time()\n",
    "run_loss = None\n",
    "test_acc = train_acc = 10\n",
    "for step in range(info.global_step+1, info.total_steps):\n",
    "    \n",
    "    X, y = dataloader.next(info.batch_size)  # get a minibatch\n",
    "    logits = model(X)                        # forward pass\n",
    "    y_hat = F.log_softmax(logits, dim=-1)    # log softmax over logits\n",
    "    loss = F.nll_loss(y_hat, Variable(torch.LongTensor(y)))    # this is the loss function\n",
    "    loss.backward() ; optimizer.step() ; optimizer.zero_grad() # get grads, apply with optimizer\n",
    "    \n",
    "    info.loss += [loss.data.view(-1)[0]]\n",
    "    run_loss = running_mean(run_loss, loss.data.view(-1)[0])\n",
    "    info.global_step = step\n",
    "    if time.time() - print_t > .2:\n",
    "        print_t = time.time()\n",
    "        print('\\tstep {}/{} | elapsed {:.1f}s | loss {:.4f} | test_acc {:.2f}% | train_acc {:.2f}%'\n",
    "              .format(step, info.total_steps, time.time()-start_t, run_loss, test_acc, train_acc), end='\\r')\n",
    "    if step % info.test_every == 0 or step == info.total_steps-1:\n",
    "        test_acc = accuracy(model, dataloader, samples=10000, mode='test')\n",
    "        train_acc = accuracy(model, dataloader, samples=10000, mode='train')\n",
    "        info.accuracy += [[test_acc, train_acc].copy()]\n",
    "        \n",
    "        to_pickle([model, info_dict], info.name) # save model and train stats"
   ]
  },
  {
   "cell_type": "markdown",
   "metadata": {},
   "source": [
    "## Visualize examples"
   ]
  },
  {
   "cell_type": "code",
   "execution_count": 8,
   "metadata": {},
   "outputs": [
    {
     "data": {
      "image/png": "[encoded data removed]",
      "text/plain": [
       "<matplotlib.figure.Figure at 0x10afcdcc0>"
      ]
     },
     "metadata": {},
     "output_type": "display_data"
    }
   ],
   "source": [
    "r, c = 2, 5\n",
    "side = 2\n",
    "f = plt.figure(figsize=[c*side, r*side], dpi=100)\n",
    "\n",
    "X, y = dataloader.next(r*c, mode='test')\n",
    "model.eval()\n",
    "logits = model.forward(X)\n",
    "labels = logits.argmax(1)\n",
    "\n",
    "for j in range(r):\n",
    "    for i in range(c):\n",
    "        ix = j*c + i\n",
    "        plt.subplot(r,c,ix+1)\n",
    "        img = X[ix].reshape(28,28)\n",
    "        plt.imshow(img, cmap='gray')\n",
    "        plt.title('label: {}'.format(labels[ix]))\n",
    "[a.axis('off') for a in f.get_axes()]\n",
    "plt.tight_layout() ; plt.show()\n",
    "f.savefig('figures/{}-example.png'.format(info_dict['name']))"
   ]
  },
  {
   "cell_type": "markdown",
   "metadata": {},
   "source": [
    "## Visualize train stats"
   ]
  },
  {
   "cell_type": "code",
   "execution_count": 9,
   "metadata": {},
   "outputs": [
    {
     "data": {
      "image/png": "[encoded data removed]",
      "text/plain": [
       "<matplotlib.figure.Figure at 0x10afe9320>"
      ]
     },
     "metadata": {},
     "output_type": "display_data"
    }
   ],
   "source": [
    "f = plt.figure(figsize=[10,3], dpi=100)\n",
    "plt.subplot(1,2,1)\n",
    "plt.plot(info_dict['loss'], label=info_dict['name'])\n",
    "plt.title('NLL Loss') ; plt.xlabel('train step')\n",
    "\n",
    "plt.subplot(1,2,2)\n",
    "test_acc, train_acc = np.stack(info_dict['accuracy']).T\n",
    "train_step_list = np.linspace(0,info_dict['test_every']*len(test_acc), len(test_acc))\n",
    "plt.plot(train_step_list, test_acc, label='test_acc')\n",
    "plt.plot(train_step_list, train_acc, label='train_acc')\n",
    "plt.title('Accuracy') ; plt.xlabel('train step')\n",
    "plt.ylim(95,101)\n",
    "\n",
    "plt.legend()\n",
    "plt.tight_layout() ; plt.show()\n",
    "f.savefig('figures/{}-stats.png'.format(info_dict['name']))"
   ]
  },
  {
   "cell_type": "code",
   "execution_count": null,
   "metadata": {
    "collapsed": true
   },
   "outputs": [],
   "source": []
  }
 ],
 "metadata": {
  "kernelspec": {
   "display_name": "Python 3",
   "language": "python",
   "name": "python3"
  },
  "language_info": {
   "codemirror_mode": {
    "name": "ipython",
    "version": 3
   },
   "file_extension": ".py",
   "mimetype": "text/x-python",
   "name": "python",
   "nbconvert_exporter": "python",
   "pygments_lexer": "ipython3",
   "version": "3.6.1"
  }
 },
 "nbformat": 4,
 "nbformat_minor": 2
}
